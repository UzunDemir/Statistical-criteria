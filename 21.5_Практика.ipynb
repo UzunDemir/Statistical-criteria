{
 "cells": [
  {
   "cell_type": "markdown",
   "metadata": {
    "id": "i5iLfBeotnLR"
   },
   "source": [
    "## Проверка гипотез с помощью Т-критериев"
   ]
  },
  {
   "cell_type": "markdown",
   "metadata": {
    "id": "76Yjd3o1CMKR"
   },
   "source": [
    "**Не сдаётся на проверку.**\n",
    "\n",
    "В этой практической работе три обязательные задачи и одна дополнительная.\n",
    "\n",
    "Обязательные задачи нужно сделать для того, чтобы проверить, как вы усвоили материал. Если у вас всё получилось, можете переходить к следующей теме.\n",
    "\n",
    "Дополнительная задача для тех, кто хочет немного углубиться в тему и поработать с альтернативными гипотезами.\n",
    "\n",
    "Удачи!\n"
   ]
  },
  {
   "cell_type": "markdown",
   "metadata": {
    "id": "9iRpELKNCOSk"
   },
   "source": [
    "## Цели практической работы:\n",
    "\n",
    "*   Научиться проверять данные на нормальное распределение с помощью теста Шапиро — Уилка.\n",
    "*   Научиться проверять выборки на равенство дисперсий с помощью теста Левена.\n",
    "*   Научиться применять Т-критерий Стьюдента и Т-критерий Уэлча для проверки статистических гипотез."
   ]
  },
  {
   "cell_type": "markdown",
   "metadata": {
    "id": "UWAG-ZqMCVeF"
   },
   "source": [
    "\n",
    "\n",
    "---\n",
    "\n",
    "\n",
    "\n",
    "\n",
    "---\n",
    "\n"
   ]
  },
  {
   "cell_type": "markdown",
   "metadata": {
    "id": "3v_xaTb1CYB6"
   },
   "source": [
    "##Обязательные задачи"
   ]
  },
  {
   "cell_type": "markdown",
   "metadata": {
    "id": "rNrD-e7yCarX"
   },
   "source": [
    "Постановка задачи: проверьте гипотезу из теоретического видео на новом семпле данных.\n",
    "\n",
    "*Нулевая гипотеза:* игровое время, не зависит от принадлежности к определённому гендеру, то есть среднее время женщин равно среднему времени мужчин.\n",
    "\n",
    "*Альтернативная гипотеза:* игровое время зависит от принадлежности к мужскому или женскому полу (их средние не равны).\n"
   ]
  },
  {
   "cell_type": "code",
   "execution_count": null,
   "metadata": {
    "colab": {
     "base_uri": "https://localhost:8080/"
    },
    "id": "NCJypvNWIO1P",
    "outputId": "5f14e27d-fb80-402b-91f8-9a9a054161b6"
   },
   "outputs": [
    {
     "name": "stdout",
     "output_type": "stream",
     "text": [
      "Collecting scipy==1.7.1\n",
      "  Downloading scipy-1.7.1-cp37-cp37m-manylinux_2_5_x86_64.manylinux1_x86_64.whl (28.5 MB)\n",
      "\u001b[K     |████████████████████████████████| 28.5 MB 55.7 MB/s \n",
      "\u001b[?25hRequirement already satisfied: numpy<1.23.0,>=1.16.5 in /usr/local/lib/python3.7/dist-packages (from scipy==1.7.1) (1.21.5)\n",
      "Installing collected packages: scipy\n",
      "  Attempting uninstall: scipy\n",
      "    Found existing installation: scipy 1.4.1\n",
      "    Uninstalling scipy-1.4.1:\n",
      "      Successfully uninstalled scipy-1.4.1\n",
      "\u001b[31mERROR: pip's dependency resolver does not currently take into account all the packages that are installed. This behaviour is the source of the following dependency conflicts.\n",
      "albumentations 0.1.12 requires imgaug<0.2.7,>=0.2.5, but you have imgaug 0.2.9 which is incompatible.\u001b[0m\n",
      "Successfully installed scipy-1.7.1\n"
     ]
    }
   ],
   "source": [
    "# строка для тех, кто работает в colab\n",
    "!pip install scipy==1.7.1"
   ]
  },
  {
   "cell_type": "code",
   "execution_count": 2,
   "metadata": {
    "id": "2BqlmGJDGKLj"
   },
   "outputs": [
    {
     "data": {
      "text/html": [
       "<div>\n",
       "<style scoped>\n",
       "    .dataframe tbody tr th:only-of-type {\n",
       "        vertical-align: middle;\n",
       "    }\n",
       "\n",
       "    .dataframe tbody tr th {\n",
       "        vertical-align: top;\n",
       "    }\n",
       "\n",
       "    .dataframe thead th {\n",
       "        text-align: right;\n",
       "    }\n",
       "</style>\n",
       "<table border=\"1\" class=\"dataframe\">\n",
       "  <thead>\n",
       "    <tr style=\"text-align: right;\">\n",
       "      <th></th>\n",
       "      <th>men</th>\n",
       "      <th>women</th>\n",
       "    </tr>\n",
       "  </thead>\n",
       "  <tbody>\n",
       "    <tr>\n",
       "      <th>0</th>\n",
       "      <td>54</td>\n",
       "      <td>72</td>\n",
       "    </tr>\n",
       "    <tr>\n",
       "      <th>1</th>\n",
       "      <td>63</td>\n",
       "      <td>72</td>\n",
       "    </tr>\n",
       "    <tr>\n",
       "      <th>2</th>\n",
       "      <td>57</td>\n",
       "      <td>73</td>\n",
       "    </tr>\n",
       "    <tr>\n",
       "      <th>3</th>\n",
       "      <td>65</td>\n",
       "      <td>68</td>\n",
       "    </tr>\n",
       "    <tr>\n",
       "      <th>4</th>\n",
       "      <td>63</td>\n",
       "      <td>68</td>\n",
       "    </tr>\n",
       "    <tr>\n",
       "      <th>...</th>\n",
       "      <td>...</td>\n",
       "      <td>...</td>\n",
       "    </tr>\n",
       "    <tr>\n",
       "      <th>95</th>\n",
       "      <td>67</td>\n",
       "      <td>71</td>\n",
       "    </tr>\n",
       "    <tr>\n",
       "      <th>96</th>\n",
       "      <td>52</td>\n",
       "      <td>67</td>\n",
       "    </tr>\n",
       "    <tr>\n",
       "      <th>97</th>\n",
       "      <td>59</td>\n",
       "      <td>68</td>\n",
       "    </tr>\n",
       "    <tr>\n",
       "      <th>98</th>\n",
       "      <td>56</td>\n",
       "      <td>61</td>\n",
       "    </tr>\n",
       "    <tr>\n",
       "      <th>99</th>\n",
       "      <td>60</td>\n",
       "      <td>68</td>\n",
       "    </tr>\n",
       "  </tbody>\n",
       "</table>\n",
       "<p>100 rows × 2 columns</p>\n",
       "</div>"
      ],
      "text/plain": [
       "    men  women\n",
       "0    54     72\n",
       "1    63     72\n",
       "2    57     73\n",
       "3    65     68\n",
       "4    63     68\n",
       "..  ...    ...\n",
       "95   67     71\n",
       "96   52     67\n",
       "97   59     68\n",
       "98   56     61\n",
       "99   60     68\n",
       "\n",
       "[100 rows x 2 columns]"
      ]
     },
     "execution_count": 2,
     "metadata": {},
     "output_type": "execute_result"
    }
   ],
   "source": [
    "# загрузите новый семпл данных из файла 'practice4.csv'\n",
    "import pandas as pd\n",
    "df = pd.read_csv('data/practice4.csv')\n",
    "df"
   ]
  },
  {
   "cell_type": "markdown",
   "metadata": {
    "id": "9na-QBLnF-tv"
   },
   "source": [
    "1. *Тест Шапиро—Уилка*\n",
    "\n",
    "Проверьте выборки `men` и `women` на нормальное распределение. Рассчитайте p-value c помощью теста Шапиро—Уилка и интерпретируйте результат. Уровень значимости = 5%."
   ]
  },
  {
   "cell_type": "code",
   "execution_count": 3,
   "metadata": {
    "id": "tqjE1FwzCMjw"
   },
   "outputs": [
    {
     "data": {
      "text/plain": [
       "ShapiroResult(statistic=0.9841593503952026, pvalue=0.2757852375507355)"
      ]
     },
     "execution_count": 3,
     "metadata": {},
     "output_type": "execute_result"
    }
   ],
   "source": [
    "from scipy import stats\n",
    "\n",
    "# Ваш код здесь\n",
    "stats.shapiro(df.women)"
   ]
  },
  {
   "cell_type": "code",
   "execution_count": 4,
   "metadata": {},
   "outputs": [
    {
     "data": {
      "text/plain": [
       "ShapiroResult(statistic=0.9894130825996399, pvalue=0.6173409223556519)"
      ]
     },
     "execution_count": 4,
     "metadata": {},
     "output_type": "execute_result"
    }
   ],
   "source": [
    "stats.shapiro(df.men)"
   ]
  },
  {
   "cell_type": "markdown",
   "metadata": {},
   "source": [
    "Проверка теста Шапиро-Уилка на нормальное распределение дало положительный результат (0.27 > 0.05 and 0.61 > 0.05)"
   ]
  },
  {
   "cell_type": "markdown",
   "metadata": {
    "id": "eHVAP87oJIxV"
   },
   "source": [
    "2. *Тест Левена*\n",
    "\n",
    "Проверьте выборки `men` и `women` на равенство дисперсий. Рассчитайте p-value c помощью теста Левена и интерпретируйте результат. Уровень значимости = 5%."
   ]
  },
  {
   "cell_type": "code",
   "execution_count": 5,
   "metadata": {
    "id": "F0k0J88MrZ0Q"
   },
   "outputs": [
    {
     "data": {
      "text/plain": [
       "LeveneResult(statistic=0.9323401329360519, pvalue=0.33543344271894215)"
      ]
     },
     "execution_count": 5,
     "metadata": {},
     "output_type": "execute_result"
    }
   ],
   "source": [
    "stats.levene(df.men, df.women)"
   ]
  },
  {
   "cell_type": "markdown",
   "metadata": {},
   "source": [
    "Проверка теста Левена также дало положительный результат (0.33 > 0.05), значит дисперсии равны"
   ]
  },
  {
   "cell_type": "markdown",
   "metadata": {
    "id": "-SooyFTGJfgJ"
   },
   "source": [
    "3. *Применение Т-критерия*\n",
    "\n",
    "Исходя из результатов, получившихся на предыдущем шаге, выберите, каким тестом проверить нулевую гипотезу: Т-критерием Стьюдента или Т-критерием Уэлча. Рассчитайте p-value, и интерпретируйте результат: зависит ли игровое время от принадлежности к определенному гендеру или нет. Уровень значимости = 5%."
   ]
  },
  {
   "cell_type": "markdown",
   "metadata": {
    "id": "-Se4zP4Qretz"
   },
   "source": [
    "Выборки независимы, так как в одной женщины, в другой мужчины - а это разные люди.\n",
    "Значит применим парный Т-критерий Стьюдента.\n",
    "\n",
    "Ставим нулевую гипотезу H0: Средние в выборках равны\n",
    "Альтернативная гипотеза Н1: Средние в выборках не равны"
   ]
  },
  {
   "cell_type": "code",
   "execution_count": 6,
   "metadata": {},
   "outputs": [
    {
     "data": {
      "text/plain": [
       "Ttest_indResult(statistic=-13.18844004591947, pvalue=6.445889120331417e-29)"
      ]
     },
     "execution_count": 6,
     "metadata": {},
     "output_type": "execute_result"
    }
   ],
   "source": [
    "stats.ttest_ind(df.men, df.women)"
   ]
  },
  {
   "cell_type": "markdown",
   "metadata": {
    "id": "qo0ACRt2KdPX"
   },
   "source": [
    "Ваш ответ здесь"
   ]
  },
  {
   "cell_type": "markdown",
   "metadata": {},
   "source": [
    "pvalue ничтожно меньше 5%, значит Н0 не подтвердилось, Н1 - \"да\""
   ]
  },
  {
   "cell_type": "markdown",
   "metadata": {
    "id": "9L0Tr-O4LjSy"
   },
   "source": [
    "\n",
    "\n",
    "---\n",
    "\n",
    "\n",
    "\n",
    "---\n",
    "\n"
   ]
  },
  {
   "cell_type": "markdown",
   "metadata": {
    "id": "ksO43YSSLkyF"
   },
   "source": [
    "## Дополнительная задача"
   ]
  },
  {
   "cell_type": "markdown",
   "metadata": {
    "id": "PuL7rijXLyqB"
   },
   "source": [
    "*4. Односторонний тест*\n",
    "\n",
    "Измените расчет Т-критерия в предыдущей задаче таким образом, чтобы альтернативная гипотеза звучала как: игровое время у женщин больше, чем у мужчин.\n",
    "\n",
    "Рассчитайте p-value, и интерпретируйте результат: игровое время женщин больше, чем у мужчин, или нет. Уровень значимости = 5%."
   ]
  },
  {
   "cell_type": "code",
   "execution_count": 11,
   "metadata": {
    "id": "5PsUIoGeMuFL"
   },
   "outputs": [
    {
     "data": {
      "text/plain": [
       "Ttest_indResult(statistic=-13.18844004591947, pvalue=3.2229445601657084e-29)"
      ]
     },
     "execution_count": 11,
     "metadata": {},
     "output_type": "execute_result"
    }
   ],
   "source": [
    "# Ваш код здесь\n",
    "# нулевая гипотеза звучит так - допустим, что игровое время у женщин меньше, чем у мужчин\n",
    "# альтернативная гипотеза - игровое время у женщин больше, чем у мужчин\n",
    "stats.ttest_ind(df.men, df.women, alternative='less')"
   ]
  },
  {
   "cell_type": "markdown",
   "metadata": {},
   "source": [
    "P-value ничтожно мало, значит нулевая гипотеза не подтвердилась, игровое время у женщин больше, чем у мужчин"
   ]
  },
  {
   "cell_type": "code",
   "execution_count": 14,
   "metadata": {},
   "outputs": [
    {
     "data": {
      "text/plain": [
       "Ttest_indResult(statistic=13.18844004591947, pvalue=3.2229445601657084e-29)"
      ]
     },
     "execution_count": 14,
     "metadata": {},
     "output_type": "execute_result"
    }
   ],
   "source": [
    "# верно ли, что меняя местами выборки и устанавливая флаг 'greater' получим\n",
    "# H0 = игровое время у мужчин больше чем у женщин\n",
    "stats.ttest_ind(df.women, df.men, alternative='greater')"
   ]
  },
  {
   "cell_type": "code",
   "execution_count": 15,
   "metadata": {},
   "outputs": [
    {
     "data": {
      "text/plain": [
       "Ttest_indResult(statistic=-13.18844004591947, pvalue=1.0)"
      ]
     },
     "execution_count": 15,
     "metadata": {},
     "output_type": "execute_result"
    }
   ],
   "source": [
    "# H0 = игровое время женщин больше чем у мужчин \n",
    "# pvalue=1.0 Подтверждено Н0\n",
    "stats.ttest_ind(df.men, df.women, alternative='greater')"
   ]
  },
  {
   "cell_type": "markdown",
   "metadata": {
    "id": "eS5nGP3Urovv"
   },
   "source": [
    "|\n",
    "\n",
    "|\n",
    "\n",
    "|\n",
    "\n",
    "|\n",
    "\n",
    "|\n",
    "\n",
    "|\n",
    "\n",
    "|\n",
    "\n",
    "|\n",
    "\n",
    "|\n",
    "\n",
    "|\n",
    "\n",
    "|\n",
    "\n",
    "|\n",
    "\n",
    "|\n",
    "\n",
    "|\n",
    "\n",
    "## Решения"
   ]
  },
  {
   "cell_type": "code",
   "execution_count": null,
   "metadata": {
    "id": "Fl7eOU5vqww5"
   },
   "outputs": [],
   "source": [
    "# загрузка данных\n",
    "import pandas as pd\n",
    "\n",
    "df = pd.read_csv('practice4.csv')"
   ]
  },
  {
   "cell_type": "markdown",
   "metadata": {
    "id": "9XQg6eWesayz"
   },
   "source": [
    "**Обязательные задачи**"
   ]
  },
  {
   "cell_type": "markdown",
   "metadata": {
    "id": "wXx8QbGgrPQd"
   },
   "source": [
    "1. *Тест Шапиро-Уилка*"
   ]
  },
  {
   "cell_type": "code",
   "execution_count": null,
   "metadata": {
    "id": "uGqwgYQSsjar"
   },
   "outputs": [],
   "source": [
    "from scipy import stats"
   ]
  },
  {
   "cell_type": "code",
   "execution_count": null,
   "metadata": {
    "colab": {
     "base_uri": "https://localhost:8080/"
    },
    "id": "JUx8uo0PrPQe",
    "outputId": "130bd7d4-dc51-4393-c171-fc24a3d4ab17"
   },
   "outputs": [
    {
     "data": {
      "text/plain": [
       "ShapiroResult(statistic=0.9894130825996399, pvalue=0.6173409223556519)"
      ]
     },
     "execution_count": 9,
     "metadata": {},
     "output_type": "execute_result"
    }
   ],
   "source": [
    "# решение\n",
    "stats.shapiro(df.men)"
   ]
  },
  {
   "cell_type": "code",
   "execution_count": null,
   "metadata": {
    "colab": {
     "base_uri": "https://localhost:8080/"
    },
    "id": "8ooJ5f3QrPQf",
    "outputId": "397de7c1-bf5d-443e-cc40-848eb68443a8"
   },
   "outputs": [
    {
     "data": {
      "text/plain": [
       "ShapiroResult(statistic=0.9841593503952026, pvalue=0.2757852375507355)"
      ]
     },
     "execution_count": 10,
     "metadata": {},
     "output_type": "execute_result"
    }
   ],
   "source": [
    "# решение\n",
    "stats.shapiro(df.women)"
   ]
  },
  {
   "cell_type": "markdown",
   "metadata": {
    "id": "IK7Pxs9ZrU-A"
   },
   "source": [
    "2. *Тест Левена*"
   ]
  },
  {
   "cell_type": "code",
   "execution_count": null,
   "metadata": {
    "colab": {
     "base_uri": "https://localhost:8080/"
    },
    "id": "CUbBOv3XrU-B",
    "outputId": "cfa82cbe-6508-4934-c255-b5199ef43f2b"
   },
   "outputs": [
    {
     "data": {
      "text/plain": [
       "LeveneResult(statistic=0.9323401329360519, pvalue=0.33543344271894215)"
      ]
     },
     "execution_count": 11,
     "metadata": {},
     "output_type": "execute_result"
    }
   ],
   "source": [
    "# решение\n",
    "stats.levene(df.men, df.women)"
   ]
  },
  {
   "cell_type": "markdown",
   "metadata": {
    "id": "MPYn4O2CrU-B"
   },
   "source": [
    "3. *Применение Т-критерия*\n"
   ]
  },
  {
   "cell_type": "code",
   "execution_count": null,
   "metadata": {
    "colab": {
     "base_uri": "https://localhost:8080/"
    },
    "id": "Znx6gNHJrU-B",
    "outputId": "29eafb62-f993-4c3b-fac4-eb396b30de7c"
   },
   "outputs": [
    {
     "data": {
      "text/plain": [
       "Ttest_indResult(statistic=-13.18844004591947, pvalue=6.445889120331417e-29)"
      ]
     },
     "execution_count": 12,
     "metadata": {},
     "output_type": "execute_result"
    }
   ],
   "source": [
    "# решение\n",
    "# применяем т-критерий Стьюдента, тк условие на равенство дисперсий и нормальное распределение пройдено. \n",
    "# P-value очень мало, а значит, мы соглашаемся с альтернативной гипотезой. \n",
    "stats.ttest_ind(df.men, df.women)"
   ]
  },
  {
   "cell_type": "markdown",
   "metadata": {
    "id": "RH1jzIghrU-B"
   },
   "source": [
    "\n",
    "\n",
    "---\n",
    "\n",
    "\n",
    "\n",
    "---\n",
    "\n"
   ]
  },
  {
   "cell_type": "markdown",
   "metadata": {
    "id": "Phdcy9IKrU-B"
   },
   "source": [
    "**Дополнительные задачи**"
   ]
  },
  {
   "cell_type": "code",
   "execution_count": null,
   "metadata": {
    "colab": {
     "base_uri": "https://localhost:8080/"
    },
    "id": "fBOlybj5rU-C",
    "outputId": "8046baca-8b93-4c19-be6b-f11afab3373d"
   },
   "outputs": [
    {
     "data": {
      "text/plain": [
       "Ttest_indResult(statistic=-13.18844004591947, pvalue=3.2229445601657084e-29)"
      ]
     },
     "execution_count": 15,
     "metadata": {},
     "output_type": "execute_result"
    }
   ],
   "source": [
    "# решение\n",
    "# P-value очень мало, значит среднее женщин больше, чем у мужчин\n",
    "stats.ttest_ind(df.men, df.women, alternative='less')"
   ]
  }
 ],
 "metadata": {
  "colab": {
   "collapsed_sections": [],
   "name": "21.4_Практика.ipynb",
   "provenance": []
  },
  "kernelspec": {
   "display_name": "Python 3 (ipykernel)",
   "language": "python",
   "name": "python3"
  },
  "language_info": {
   "codemirror_mode": {
    "name": "ipython",
    "version": 3
   },
   "file_extension": ".py",
   "mimetype": "text/x-python",
   "name": "python",
   "nbconvert_exporter": "python",
   "pygments_lexer": "ipython3",
   "version": "3.9.7"
  }
 },
 "nbformat": 4,
 "nbformat_minor": 1
}
