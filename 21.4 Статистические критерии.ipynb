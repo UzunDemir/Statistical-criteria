{
 "cells": [
  {
   "cell_type": "code",
   "execution_count": 1,
   "id": "bfff26f8",
   "metadata": {},
   "outputs": [],
   "source": [
    "import pandas as pd\n",
    "from matplotlib import pyplot\n",
    "%matplotlib inline"
   ]
  },
  {
   "cell_type": "code",
   "execution_count": 7,
   "id": "7aae52b5",
   "metadata": {},
   "outputs": [
    {
     "data": {
      "text/plain": [
       "(100, 2)"
      ]
     },
     "execution_count": 7,
     "metadata": {},
     "output_type": "execute_result"
    }
   ],
   "source": [
    "df = pd.read_csv('21.4 independent_t_student.csv')\n",
    "df.shape"
   ]
  },
  {
   "cell_type": "code",
   "execution_count": 8,
   "id": "2758a6d4",
   "metadata": {},
   "outputs": [
    {
     "data": {
      "text/html": [
       "<div>\n",
       "<style scoped>\n",
       "    .dataframe tbody tr th:only-of-type {\n",
       "        vertical-align: middle;\n",
       "    }\n",
       "\n",
       "    .dataframe tbody tr th {\n",
       "        vertical-align: top;\n",
       "    }\n",
       "\n",
       "    .dataframe thead th {\n",
       "        text-align: right;\n",
       "    }\n",
       "</style>\n",
       "<table border=\"1\" class=\"dataframe\">\n",
       "  <thead>\n",
       "    <tr style=\"text-align: right;\">\n",
       "      <th></th>\n",
       "      <th>men</th>\n",
       "      <th>women</th>\n",
       "    </tr>\n",
       "  </thead>\n",
       "  <tbody>\n",
       "    <tr>\n",
       "      <th>0</th>\n",
       "      <td>66</td>\n",
       "      <td>47</td>\n",
       "    </tr>\n",
       "    <tr>\n",
       "      <th>1</th>\n",
       "      <td>62</td>\n",
       "      <td>55</td>\n",
       "    </tr>\n",
       "    <tr>\n",
       "      <th>2</th>\n",
       "      <td>53</td>\n",
       "      <td>48</td>\n",
       "    </tr>\n",
       "    <tr>\n",
       "      <th>3</th>\n",
       "      <td>59</td>\n",
       "      <td>42</td>\n",
       "    </tr>\n",
       "    <tr>\n",
       "      <th>4</th>\n",
       "      <td>54</td>\n",
       "      <td>50</td>\n",
       "    </tr>\n",
       "  </tbody>\n",
       "</table>\n",
       "</div>"
      ],
      "text/plain": [
       "   men  women\n",
       "0   66     47\n",
       "1   62     55\n",
       "2   53     48\n",
       "3   59     42\n",
       "4   54     50"
      ]
     },
     "execution_count": 8,
     "metadata": {},
     "output_type": "execute_result"
    }
   ],
   "source": [
    "df.head()"
   ]
  },
  {
   "cell_type": "code",
   "execution_count": 10,
   "id": "935e9cff",
   "metadata": {},
   "outputs": [
    {
     "data": {
      "image/png": "[encoded data removed]",
      "text/plain": [
       "<Figure size 432x288 with 1 Axes>"
      ]
     },
     "metadata": {
      "needs_background": "light"
     },
     "output_type": "display_data"
    }
   ],
   "source": [
    "pyplot.hist(df.women);"
   ]
  },
  {
   "cell_type": "code",
   "execution_count": 11,
   "id": "3024d71b",
   "metadata": {},
   "outputs": [
    {
     "data": {
      "image/png": "[encoded data removed]",
      "text/plain": [
       "<Figure size 432x288 with 1 Axes>"
      ]
     },
     "metadata": {
      "needs_background": "light"
     },
     "output_type": "display_data"
    }
   ],
   "source": [
    "pyplot.hist(df.men);"
   ]
  },
  {
   "cell_type": "code",
   "execution_count": 12,
   "id": "4e0aa10c",
   "metadata": {},
   "outputs": [],
   "source": [
    "from scipy import stats"
   ]
  },
  {
   "cell_type": "code",
   "execution_count": 13,
   "id": "c3725c5a",
   "metadata": {},
   "outputs": [
    {
     "data": {
      "text/plain": [
       "ShapiroResult(statistic=0.9810593724250793, pvalue=0.16062425076961517)"
      ]
     },
     "execution_count": 13,
     "metadata": {},
     "output_type": "execute_result"
    }
   ],
   "source": [
    "stats.shapiro(df.women)"
   ]
  },
  {
   "cell_type": "code",
   "execution_count": 14,
   "id": "849bbb76",
   "metadata": {},
   "outputs": [
    {
     "data": {
      "text/plain": [
       "ShapiroResult(statistic=0.9900978207588196, pvalue=0.6725062727928162)"
      ]
     },
     "execution_count": 14,
     "metadata": {},
     "output_type": "execute_result"
    }
   ],
   "source": [
    "stats.shapiro(df.men)"
   ]
  },
  {
   "cell_type": "markdown",
   "id": "0dffc9d1",
   "metadata": {},
   "source": [
    "Так как 0.16 > 0.05(%) и 0.67 > 0.05(%) то принимаем нулевую гипотезу о том, что данные распределены нормально"
   ]
  },
  {
   "cell_type": "markdown",
   "id": "bfd2b214",
   "metadata": {},
   "source": [
    "**Тест Левена**\n",
    "\n",
    "Используется для проверки следующей гипотезы:\n",
    "\n",
    "`H0: Выборки имеют равные дисперсии`"
   ]
  },
  {
   "cell_type": "code",
   "execution_count": 15,
   "id": "d5e53810",
   "metadata": {},
   "outputs": [
    {
     "data": {
      "text/plain": [
       "LeveneResult(statistic=0.2644266082613287, pvalue=0.6076686464894372)"
      ]
     },
     "execution_count": 15,
     "metadata": {},
     "output_type": "execute_result"
    }
   ],
   "source": [
    "stats.levene(df.men, df.women)"
   ]
  },
  {
   "cell_type": "markdown",
   "id": "3255c83d",
   "metadata": {},
   "source": [
    "0.60 > 0.05(%), значит мы принимаем гипотезу о том что дисперсии выборок равны"
   ]
  },
  {
   "cell_type": "markdown",
   "id": "7efcbabf",
   "metadata": {},
   "source": [
    "**Т-Критерий Стьюдента**\n",
    "\n",
    "Используется для проверки следующей гипотезы:\n",
    "\n",
    "`H0: Средние в выборках равны`"
   ]
  },
  {
   "cell_type": "code",
   "execution_count": 16,
   "id": "4ca28d4f",
   "metadata": {},
   "outputs": [
    {
     "data": {
      "text/plain": [
       "Ttest_indResult(statistic=16.422524648309142, pvalue=8.206721395990692e-39)"
      ]
     },
     "execution_count": 16,
     "metadata": {},
     "output_type": "execute_result"
    }
   ],
   "source": [
    "stats.ttest_ind(df.men, df.women)"
   ]
  },
  {
   "cell_type": "markdown",
   "id": "b2cc637c",
   "metadata": {},
   "source": [
    "**Т-Критерий Уэлча**\n",
    "\n",
    "Модификация критерия Стьюдента для выборок с неравными дисперсиями"
   ]
  },
  {
   "cell_type": "code",
   "execution_count": 17,
   "id": "b83f9e4a",
   "metadata": {},
   "outputs": [
    {
     "data": {
      "text/plain": [
       "Ttest_indResult(statistic=16.422524648309142, pvalue=9.940369712406374e-39)"
      ]
     },
     "execution_count": 17,
     "metadata": {},
     "output_type": "execute_result"
    }
   ],
   "source": [
    "stats.ttest_ind(df.men, df.women, equal_var=False)"
   ]
  },
  {
   "cell_type": "code",
   "execution_count": 18,
   "id": "62f1e804",
   "metadata": {},
   "outputs": [
    {
     "data": {
      "text/plain": [
       "Ttest_indResult(statistic=16.422524648309142, pvalue=4.970184856203187e-39)"
      ]
     },
     "execution_count": 18,
     "metadata": {},
     "output_type": "execute_result"
    }
   ],
   "source": [
    "stats.ttest_ind(df.men, df.women, equal_var=False, alternative='greater')"
   ]
  },
  {
   "cell_type": "code",
   "execution_count": null,
   "id": "5a15e196",
   "metadata": {},
   "outputs": [],
   "source": []
  }
 ],
 "metadata": {
  "kernelspec": {
   "display_name": "Python 3 (ipykernel)",
   "language": "python",
   "name": "python3"
  },
  "language_info": {
   "codemirror_mode": {
    "name": "ipython",
    "version": 3
   },
   "file_extension": ".py",
   "mimetype": "text/x-python",
   "name": "python",
   "nbconvert_exporter": "python",
   "pygments_lexer": "ipython3",
   "version": "3.9.7"
  }
 },
 "nbformat": 4,
 "nbformat_minor": 5
}
